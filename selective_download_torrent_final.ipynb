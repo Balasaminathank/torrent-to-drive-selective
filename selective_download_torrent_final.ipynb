{
  "cells": [
    {
      "cell_type": "code",
      "execution_count": null,
      "metadata": {
        "colab": {
          "base_uri": "https://localhost:8080/"
        },
        "id": "AqFFlVBGQfT_",
        "outputId": "c915f0a3-dc57-41a7-9b45-0184d62f816f"
      },
      "outputs": [],
      "source": [
        "# 1️⃣ Import Required Libraries\n",
        "!python -m pip install --upgrade pip setuptools wheel\n",
        "!python -m pip install lbry-libtorrent\n",
        "!apt install python3-libtorrent\n",
        "\n",
        "import libtorrent as lt\n",
        "import time\n",
        "import os\n",
        "from google.colab import drive, files\n",
        "from IPython.display import display\n",
        "import ipywidgets as widgets"
      ]
    },
    {
      "cell_type": "code",
      "execution_count": null,
      "metadata": {
        "colab": {
          "base_uri": "https://localhost:8080/",
          "height": 1000,
          "referenced_widgets": [
            "69c8368e6ba84790a4ec2eb44a4c0bc6",
            "de880307dcad471baecd7296f5cf7945",
            "4b00ed9a8b0645339cb8478a12dd8a3e"
          ]
        },
        "id": "ZD-uDJAJShCo",
        "outputId": "d1bc9219-3467-429c-b23f-8c97496726ef"
      },
      "outputs": [],
      "source": [
        "# 3️⃣ Upload Torrent File\n",
        "print(\"Please upload a .torrent file:\")\n",
        "uploaded = files.upload()\n",
        "torrent_path = list(uploaded.keys())[0]\n",
        "\n",
        "# 4️⃣ List Content in Torrent\n",
        "def list_torrent_files(torrent_path):\n",
        "    \"\"\"Lists all files inside a given torrent file.\"\"\"\n",
        "    ses = lt.session()\n",
        "    info = lt.torrent_info(torrent_path)\n",
        "\n",
        "    print(\"\\nFiles in Torrent:\")\n",
        "    for idx, file in enumerate(info.files()):\n",
        "        print(f\"{idx}: {file.path} ({file.size} bytes)\")\n",
        "\n",
        "    return info\n",
        "\n",
        "info = list_torrent_files(torrent_path)\n",
        "\n",
        "# 5️⃣ Selective Download Function\n",
        "def download_torrent(torrent_path, save_path, file_indices):\n",
        "    \"\"\"Downloads only selected files from the torrent.\"\"\"\n",
        "    ses = lt.session()\n",
        "    info = lt.torrent_info(torrent_path)\n",
        "\n",
        "    params = {\n",
        "        'ti': info,\n",
        "        'save_path': save_path,\n",
        "        'storage_mode': lt.storage_mode_t(2)  # Sparse mode\n",
        "    }\n",
        "    torrent_handle = ses.add_torrent(params)\n",
        "\n",
        "    # Apply selective download settings\n",
        "    for idx, file in enumerate(info.files()):\n",
        "        priority = 7 if idx in file_indices else 0  # 7 = high priority, 0 = skip\n",
        "        torrent_handle.file_priority(idx, priority)\n",
        "\n",
        "    print(\"\\nDownloading selected files...\")\n",
        "\n",
        "    # UI Progress Bar Setup\n",
        "    state_str = [\n",
        "        \"queued\", \"checking\", \"downloading metadata\",\n",
        "        \"downloading\", \"finished\", \"seeding\",\n",
        "        \"allocating\", \"checking fastresume\"\n",
        "    ]\n",
        "    download_bar = widgets.FloatSlider(\n",
        "        step=0.01, disabled=True, layout=widgets.Layout(width=\"100%\"),\n",
        "        style={\"description_width\": \"initial\"}\n",
        "    )\n",
        "    display(download_bar)\n",
        "\n",
        "    # Monitor download progress\n",
        "    while not torrent_handle.is_seed():\n",
        "        s = torrent_handle.status()\n",
        "\n",
        "        download_bar.description = f\"{torrent_handle.name()} | {s.download_rate / 1000:.2f} kB/s | {state_str[s.state]}\"\n",
        "        download_bar.value = s.progress * 100\n",
        "\n",
        "        time.sleep(1)\n",
        "\n",
        "    print(\"\\nDownload Complete!\")\n",
        "\n",
        "# 6️⃣ Ask User for Selective Download\n",
        "save_directory = \"/content/drive/MyDrive/Torrents\"\n",
        "\n",
        "num_files = len(info.files())\n",
        "selected_files = input(f\"Enter file indices to download (comma-separated, 0-{num_files - 1}): \")\n",
        "selected_files = [int(idx.strip()) for idx in selected_files.split(\",\")]\n",
        "\n",
        "download_torrent(torrent_path, save_directory, file_indices=selected_files)\n"
      ]
    }
  ],
  "metadata": {
    "colab": {
      "provenance": []
    },
    "kernelspec": {
      "display_name": "Python 3",
      "name": "python3"
    },
    "language_info": {
      "name": "python"
    },
    "widgets": {
      "application/vnd.jupyter.widget-state+json": {
        "4b00ed9a8b0645339cb8478a12dd8a3e": {
          "model_module": "@jupyter-widgets/controls",
          "model_module_version": "1.5.0",
          "model_name": "SliderStyleModel",
          "state": {
            "_model_module": "@jupyter-widgets/controls",
            "_model_module_version": "1.5.0",
            "_model_name": "SliderStyleModel",
            "_view_count": null,
            "_view_module": "@jupyter-widgets/base",
            "_view_module_version": "1.2.0",
            "_view_name": "StyleView",
            "description_width": "initial",
            "handle_color": null
          }
        },
        "69c8368e6ba84790a4ec2eb44a4c0bc6": {
          "model_module": "@jupyter-widgets/controls",
          "model_module_version": "1.5.0",
          "model_name": "FloatSliderModel",
          "state": {
            "_dom_classes": [],
            "_model_module": "@jupyter-widgets/controls",
            "_model_module_version": "1.5.0",
            "_model_name": "FloatSliderModel",
            "_view_count": null,
            "_view_module": "@jupyter-widgets/controls",
            "_view_module_version": "1.5.0",
            "_view_name": "FloatSliderView",
            "continuous_update": true,
            "description": "Monster-Upscaled | 0.00 kB/s | checking",
            "description_tooltip": null,
            "disabled": true,
            "layout": "IPY_MODEL_de880307dcad471baecd7296f5cf7945",
            "max": 100,
            "min": 0,
            "orientation": "horizontal",
            "readout": true,
            "readout_format": ".2f",
            "step": 0.01,
            "style": "IPY_MODEL_4b00ed9a8b0645339cb8478a12dd8a3e",
            "value": 6.956099718809128
          }
        },
        "de880307dcad471baecd7296f5cf7945": {
          "model_module": "@jupyter-widgets/base",
          "model_module_version": "1.2.0",
          "model_name": "LayoutModel",
          "state": {
            "_model_module": "@jupyter-widgets/base",
            "_model_module_version": "1.2.0",
            "_model_name": "LayoutModel",
            "_view_count": null,
            "_view_module": "@jupyter-widgets/base",
            "_view_module_version": "1.2.0",
            "_view_name": "LayoutView",
            "align_content": null,
            "align_items": null,
            "align_self": null,
            "border": null,
            "bottom": null,
            "display": null,
            "flex": null,
            "flex_flow": null,
            "grid_area": null,
            "grid_auto_columns": null,
            "grid_auto_flow": null,
            "grid_auto_rows": null,
            "grid_column": null,
            "grid_gap": null,
            "grid_row": null,
            "grid_template_areas": null,
            "grid_template_columns": null,
            "grid_template_rows": null,
            "height": null,
            "justify_content": null,
            "justify_items": null,
            "left": null,
            "margin": null,
            "max_height": null,
            "max_width": null,
            "min_height": null,
            "min_width": null,
            "object_fit": null,
            "object_position": null,
            "order": null,
            "overflow": null,
            "overflow_x": null,
            "overflow_y": null,
            "padding": null,
            "right": null,
            "top": null,
            "visibility": null,
            "width": "100%"
          }
        }
      }
    }
  },
  "nbformat": 4,
  "nbformat_minor": 0
}
