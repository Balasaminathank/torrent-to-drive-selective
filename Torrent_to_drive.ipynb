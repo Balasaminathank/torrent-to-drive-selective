{
  "cells": [
    {
      "cell_type": "code",
      "execution_count": null,
      "metadata": {
        "id": "AqFFlVBGQfT_"
      },
      "outputs": [],
      "source": [
        "!python -m pip install --upgrade pip setuptools wheel\n",
        "!python -m pip install lbry-libtorrent\n",
        "!apt install python3-libtorrent\n",
        "\n",
        "import libtorrent as lt\n",
        "import time\n",
        "import os\n",
        "from google.colab import drive, files\n",
        "from IPython.display import display\n",
        "import ipywidgets as widgets"
      ]
    },
    {
      "cell_type": "code",
      "source": [
        "drive.mount('/content/drive')\n"
      ],
      "metadata": {
        "id": "PVZbexo3hFst"
      },
      "execution_count": null,
      "outputs": []
    },
    {
      "cell_type": "code",
      "execution_count": null,
      "metadata": {
        "id": "ZD-uDJAJShCo"
      },
      "outputs": [],
      "source": [
        "print(\"Please upload a .torrent file:\")\n",
        "uploaded = files.upload()\n",
        "torrent_path = list(uploaded.keys())[0]\n",
        "\n",
        "def list_torrent_files(torrent_path):\n",
        "    \"\"\"Lists all files inside a given torrent file.\"\"\"\n",
        "    ses = lt.session()\n",
        "    info = lt.torrent_info(torrent_path)\n",
        "\n",
        "    print(\"\\nFiles in Torrent:\")\n",
        "    for idx, file in enumerate(info.files()):\n",
        "        print(f\"{idx}: {file.path} ({file.size} bytes)\")\n",
        "\n",
        "    return info\n",
        "\n",
        "info = list_torrent_files(torrent_path)\n",
        "\n",
        "def download_torrent(torrent_path, save_path, file_indices):\n",
        "    \"\"\"Downloads only selected files from the torrent.\"\"\"\n",
        "    ses = lt.session()\n",
        "    info = lt.torrent_info(torrent_path)\n",
        "\n",
        "    params = {\n",
        "        'ti': info,\n",
        "        'save_path': save_path,\n",
        "        'storage_mode': lt.storage_mode_t(2)\n",
        "    }\n",
        "    torrent_handle = ses.add_torrent(params)\n",
        "\n",
        "\n",
        "    for idx, file in enumerate(info.files()):\n",
        "        priority = 7 if idx in file_indices else 0\n",
        "        torrent_handle.file_priority(idx, priority)\n",
        "\n",
        "    print(\"\\nDownloading selected files...\")\n",
        "\n",
        "\n",
        "    state_str = [\n",
        "        \"queued\", \"checking\", \"downloading metadata\",\n",
        "        \"downloading\", \"finished\", \"seeding\",\n",
        "        \"allocating\", \"checking fastresume\"\n",
        "    ]\n",
        "    download_bar = widgets.FloatSlider(\n",
        "        step=0.01, disabled=True, layout=widgets.Layout(width=\"100%\"),\n",
        "        style={\"description_width\": \"initial\"}\n",
        "    )\n",
        "    display(download_bar)\n",
        "\n",
        "\n",
        "    while not torrent_handle.is_seed():\n",
        "        s = torrent_handle.status()\n",
        "\n",
        "        download_bar.description = f\"{torrent_handle.name()} | {s.download_rate / 1000:.2f} kB/s | {state_str[s.state]}\"\n",
        "        download_bar.value = s.progress * 100\n",
        "\n",
        "        time.sleep(1)\n",
        "\n",
        "    print(\"\\nDownload Complete!\")\n",
        "\n",
        "\n",
        "save_directory = \"/content/drive/MyDrive/Torrents\"\n",
        "\n",
        "num_files = len(info.files())\n",
        "selected_files = input(f\"Enter file indices to download (comma-separated, 0-{num_files - 1}): \")\n",
        "selected_files = [int(idx.strip()) for idx in selected_files.split(\",\")]\n",
        "\n",
        "download_torrent(torrent_path, save_directory, file_indices=selected_files)\n"
      ]
    }
  ],
  "metadata": {
    "colab": {
      "provenance": []
    },
    "kernelspec": {
      "display_name": "Python 3",
      "name": "python3"
    },
    "language_info": {
      "name": "python"
    }
  },
  "nbformat": 4,
  "nbformat_minor": 0
}